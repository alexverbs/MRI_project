{
 "cells": [
  {
   "cell_type": "markdown",
   "metadata": {},
   "source": [
    "Alex Verbs, Kristina Schaufele, Reese Wolfe "
   ]
  },
  {
   "cell_type": "code",
   "execution_count": 24,
   "metadata": {},
   "outputs": [],
   "source": [
    "import os\n",
    "import tensorflow as tf\n",
    "import matplotlib.pyplot as plt\n",
    "import matplotlib.image as mpimg\n",
    "\n",
    "import numpy as np\n",
    "from tensorflow import keras\n",
    "from tensorflow.keras.models import Sequential\n",
    "from tensorflow.keras.layers import Dense, Dropout, Flatten\n",
    "from tensorflow.keras.layers import Conv2D, MaxPooling2D, Flatten, Dense, Dropout, BatchNormalization\n",
    "from keras.models import load_model\n",
    "from tensorflow.keras import regularizers, applications, models,layers, optimizers\n",
    "from tensorflow.keras.regularizers import l2\n",
    "from tensorflow.keras.optimizers import Adam\n",
    "\n"
   ]
  },
  {
   "cell_type": "markdown",
   "metadata": {},
   "source": [
    "# Loading the Data:"
   ]
  },
  {
   "cell_type": "code",
   "execution_count": 11,
   "metadata": {},
   "outputs": [
    {
     "name": "stdout",
     "output_type": "stream",
     "text": [
      "\n",
      "Dataset: Testing\n",
      "\n",
      "  Tumor Type: pituitary, Number of images: 300\n",
      "\n",
      "  Tumor Type: notumor, Number of images: 405\n",
      "\n",
      "  Tumor Type: glioma, Number of images: 300\n",
      "\n",
      "  Tumor Type: meningioma, Number of images: 306\n",
      "\n",
      "\n",
      "Dataset: Training\n",
      "\n",
      "  Tumor Type: pituitary, Number of images: 1457\n",
      "\n",
      "  Tumor Type: notumor, Number of images: 1595\n",
      "\n",
      "  Tumor Type: glioma, Number of images: 1321\n",
      "\n",
      "  Tumor Type: meningioma, Number of images: 1339\n",
      "\n"
     ]
    }
   ],
   "source": [
    "imageDir = \"data\"\n",
    "\n",
    "# Subdirectories for datasets\n",
    "datasets = ['Testing', 'Training']\n",
    "\n",
    "for dataset in datasets:\n",
    "    dataset_path = os.path.join(imageDir, dataset)\n",
    "    if not os.path.isdir(dataset_path):\n",
    "        continue  # Skip if the dataset directory does not exist\n",
    "    print(f\"\\nDataset: {dataset}\")\n",
    "    print(f\"\")\n",
    "    \n",
    "    # Get all tumor type directories within the dataset directory\n",
    "    tumor_types = [d for d in os.listdir(dataset_path) if os.path.isdir(os.path.join(dataset_path, d))]\n",
    "    for tumor_type in tumor_types:\n",
    "        tumor_path = os.path.join(dataset_path, tumor_type)\n",
    "        \n",
    "        # List all files (images) in the tumor type directory\n",
    "        images = [f for f in os.listdir(tumor_path) if os.path.isfile(os.path.join(tumor_path, f))]\n",
    "        num_images = len(images)\n",
    "        \n",
    "        print(f\"  Tumor Type: {tumor_type}, Number of images: {num_images}\")\n",
    "        print(f\"\")\n",
    "\n"
   ]
  },
  {
   "cell_type": "code",
   "execution_count": 13,
   "metadata": {},
   "outputs": [
    {
     "name": "stdout",
     "output_type": "stream",
     "text": [
      "Found 5712 files belonging to 4 classes.\n",
      "Found 1311 files belonging to 4 classes.\n"
     ]
    }
   ],
   "source": [
    "# Parameters\n",
    "img_height = 180  # Set your desired image height\n",
    "img_width = 180   # Set your desired image width\n",
    "batch_size = 32   # Set your desired batch size\n",
    "\n",
    "# Directory paths for training and testing\n",
    "train_dir = \"data/Training\"\n",
    "test_dir = \"data/Testing\"\n",
    "\n",
    "# Load the training dataset\n",
    "train_ds = keras.utils.image_dataset_from_directory(\n",
    "    train_dir,\n",
    "    seed=123,\n",
    "    image_size=(img_height, img_width),\n",
    "    batch_size=batch_size\n",
    ")\n",
    "\n",
    "# Load the testing dataset\n",
    "test_ds = keras.utils.image_dataset_from_directory(\n",
    "    test_dir,\n",
    "    seed=123,\n",
    "    image_size=(img_height, img_width),\n",
    "    batch_size=batch_size\n",
    ")"
   ]
  },
  {
   "cell_type": "markdown",
   "metadata": {},
   "source": [
    "# Baseline Accuracy"
   ]
  },
  {
   "cell_type": "code",
   "execution_count": 14,
   "metadata": {},
   "outputs": [
    {
     "name": "stdout",
     "output_type": "stream",
     "text": [
      "\n",
      "Dataset: Training\n",
      "\n",
      "Class Counts: {'notumor': 1595, 'glioma': 1321, 'meningioma': 1339, 'pituitary': 1457}\n",
      "Baseline Accuracy for 4 Categories: 27.92%\n",
      "Baseline Accuracy for 2 Categories: 72.08%\n"
     ]
    }
   ],
   "source": [
    "\n",
    "class_counts = {'notumor': 0, 'glioma': 0, 'meningioma': 0, 'pituitary': 0}\n",
    "dataset_path = os.path.join(imageDir, 'Training')\n",
    "\n",
    "print(f\"\\nDataset: {'Training'}\")\n",
    "print(f\"\")\n",
    "\n",
    "# Get all tumor type directories within the dataset directory\n",
    "tumor_types = [d for d in os.listdir(dataset_path) if os.path.isdir(os.path.join(dataset_path, d))]\n",
    "for tumor_type in tumor_types:\n",
    "    tumor_path = os.path.join(dataset_path, tumor_type)\n",
    "    \n",
    "    # List all files (images) in the tumor type directory\n",
    "    images = [f for f in os.listdir(tumor_path) if os.path.isfile(os.path.join(tumor_path, f))]\n",
    "    num_images = len(images)\n",
    "    \n",
    "        # Adjust class names as per your folder names\n",
    "    if \"notumor\" in tumor_type:\n",
    "        class_counts['notumor'] += num_images\n",
    "    elif \"glioma\" in tumor_type:\n",
    "        class_counts['glioma'] += num_images\n",
    "    elif \"meningioma\" in tumor_type:\n",
    "        class_counts['meningioma'] += num_images\n",
    "    elif \"pituitary\" in tumor_type:\n",
    "        class_counts['pituitary'] += num_images\n",
    "\n",
    "    # Print the class counts before calculating baseline accuracy\n",
    "print(\"Class Counts:\", class_counts)\n",
    "\n",
    "# Calculate baseline accuracy for subtypes\n",
    "total_images = class_counts['notumor'] + class_counts['glioma'] + class_counts['meningioma'] + class_counts['pituitary']\n",
    "majority_class_count = max(class_counts.values())\n",
    "baseline_accuracy = majority_class_count / total_images\n",
    "\n",
    "print(f\"Baseline Accuracy for 4 Categories: {baseline_accuracy:.2%}\")\n",
    "\n",
    "# Calculate baseline accuracy for subtypes\n",
    "total_tumors = class_counts['glioma'] + class_counts['meningioma'] + class_counts['pituitary']\n",
    "no_tumors = class_counts['notumor']\n",
    "binary_baseline_accuracy = total_tumors/ total_images\n",
    "print(f\"Baseline Accuracy for 2 Categories: {binary_baseline_accuracy:.2%}\")\n"
   ]
  }
 ],
 "metadata": {
  "kernelspec": {
   "display_name": "neuralNetworks2024",
   "language": "python",
   "name": "python3"
  },
  "language_info": {
   "codemirror_mode": {
    "name": "ipython",
    "version": 3
   },
   "file_extension": ".py",
   "mimetype": "text/x-python",
   "name": "python",
   "nbconvert_exporter": "python",
   "pygments_lexer": "ipython3",
   "version": "3.11.9"
  }
 },
 "nbformat": 4,
 "nbformat_minor": 2
}
